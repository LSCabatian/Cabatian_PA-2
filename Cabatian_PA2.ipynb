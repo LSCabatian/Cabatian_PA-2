{
 "cells": [
  {
   "cell_type": "markdown",
   "id": "04c1397d-1a69-4e5a-940f-9df669e59ff3",
   "metadata": {},
   "source": [
    "## Normalization Problem"
   ]
  },
  {
   "cell_type": "code",
   "execution_count": 45,
   "id": "c69fd8a7-262b-4762-9083-fdf0044a6fd8",
   "metadata": {
    "scrolled": true
   },
   "outputs": [
    {
     "name": "stdout",
     "output_type": "stream",
     "text": [
      "Original Value: \n",
      " [[0.1907362  0.97216806 0.21898438 0.8201767  0.13816586]\n",
      " [0.40949616 0.94828986 0.74608051 0.01448733 0.66344152]\n",
      " [0.52513009 0.39648703 0.31855252 0.61107132 0.50372864]\n",
      " [0.22296194 0.38786999 0.38595267 0.38474052 0.77712486]\n",
      " [0.45207678 0.03230963 0.39032108 0.8441497  0.78218564]] \n",
      " Normalized Value: \n",
      " [[-1.0869788   1.79496723 -0.98279862  1.23441815 -1.28085992]\n",
      " [-0.28018499  1.70690365  0.96114902 -1.73699035  0.65637372]\n",
      " [ 0.1462767  -0.32816307 -0.61558807  0.46323075  0.06734745]\n",
      " [-0.96812925 -0.35994301 -0.36701415 -0.3714846   1.0756416 ]\n",
      " [-0.12314627 -1.67126113 -0.3509033   1.32283136  1.09430588]]\n"
     ]
    }
   ],
   "source": [
    "#Import numerical python Library\n",
    "import numpy as np\n",
    "#Create random 5x5 array\n",
    "X = np. random. rand(5, 5)\n",
    "#Function for Normalized Values\n",
    "Z = (X - X.mean()) /X.std() \n",
    "#save Normalized values as X_nomatized. ny\n",
    "np. save(\"X_normalized.npy\", Z) \n",
    "#Print X and Z\n",
    "print (\"Original Value: \\n\", X, \"\\n Normalized Value: \\n\", Z) \n",
    "#end"
   ]
  },
  {
   "cell_type": "markdown",
   "id": "d6ac73a1-183c-4479-84bd-764f3d7b14a9",
   "metadata": {},
   "source": [
    "## Divisible by 3 Problem"
   ]
  },
  {
   "cell_type": "code",
   "execution_count": 57,
   "id": "4ece5d6b-fe63-456c-bd81-11f3d74f9afb",
   "metadata": {},
   "outputs": [
    {
     "name": "stdout",
     "output_type": "stream",
     "text": [
      "A =\n",
      " [[    1     4     9    16    25    36    49    64    81   100]\n",
      " [  121   144   169   196   225   256   289   324   361   400]\n",
      " [  441   484   529   576   625   676   729   784   841   900]\n",
      " [  961  1024  1089  1156  1225  1296  1369  1444  1521  1600]\n",
      " [ 1681  1764  1849  1936  2025  2116  2209  2304  2401  2500]\n",
      " [ 2601  2704  2809  2916  3025  3136  3249  3364  3481  3600]\n",
      " [ 3721  3844  3969  4096  4225  4356  4489  4624  4761  4900]\n",
      " [ 5041  5184  5329  5476  5625  5776  5929  6084  6241  6400]\n",
      " [ 6561  6724  6889  7056  7225  7396  7569  7744  7921  8100]\n",
      " [ 8281  8464  8649  8836  9025  9216  9409  9604  9801 10000]] \n",
      "Elements divisible by 3:\n",
      " [   9   36   81  144  225  324  441  576  729  900 1089 1296 1521 1764\n",
      " 2025 2304 2601 2916 3249 3600 3969 4356 4761 5184 5625 6084 6561 7056\n",
      " 7569 8100 8649 9216 9801]\n"
     ]
    }
   ],
   "source": [
    "import numpy as np\n",
    "\n",
    "#Create an array of the first 100 positive integers\n",
    "n = np.arange(1,101)\n",
    "\n",
    "#Square every element\n",
    "A_squared = np.square(n)\n",
    "\n",
    "#Resize into a 10x10 ndarray\n",
    "A = A_squared.reshape(10,10)\n",
    "\n",
    "#Determine the elements divisible by 3\n",
    "Div_by_3 = A[A % 3 == 0]\n",
    "\n",
    "#Save the result as div_by_3.npy\n",
    "np.save('div_by_3.npy', Div_by_3)\n",
    "\n",
    "#Print the output of \"A\" and \"div_by_3\"\n",
    "print(\"A =\\n\", A, \"\\nElements divisible by 3:\\n\", Div_by_3)"
   ]
  },
  {
   "cell_type": "code",
   "execution_count": null,
   "id": "a1606407-ff09-4c07-b55c-65d2957b56f7",
   "metadata": {},
   "outputs": [],
   "source": []
  },
  {
   "cell_type": "code",
   "execution_count": null,
   "id": "df509b41-afef-4608-8d76-71fd87f6b788",
   "metadata": {},
   "outputs": [],
   "source": []
  }
 ],
 "metadata": {
  "kernelspec": {
   "display_name": "Python [conda env:base] *",
   "language": "python",
   "name": "conda-base-py"
  },
  "language_info": {
   "codemirror_mode": {
    "name": "ipython",
    "version": 3
   },
   "file_extension": ".py",
   "mimetype": "text/x-python",
   "name": "python",
   "nbconvert_exporter": "python",
   "pygments_lexer": "ipython3",
   "version": "3.13.5"
  }
 },
 "nbformat": 4,
 "nbformat_minor": 5
}
